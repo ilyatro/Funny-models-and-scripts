{
  "nbformat": 4,
  "nbformat_minor": 0,
  "metadata": {
    "colab": {
      "name": "Untitled8.ipynb",
      "provenance": [],
      "collapsed_sections": [],
      "authorship_tag": "ABX9TyOcEK0Qa1i61GNiruR/rkYP",
      "include_colab_link": true
    },
    "kernelspec": {
      "name": "python3",
      "display_name": "Python 3"
    },
    "language_info": {
      "name": "python"
    }
  },
  "cells": [
    {
      "cell_type": "markdown",
      "metadata": {
        "id": "view-in-github",
        "colab_type": "text"
      },
      "source": [
        "<a href=\"https://colab.research.google.com/github/ilyatro/Funny-models-and-scripts/blob/master/Untitled8.ipynb\" target=\"_parent\"><img src=\"https://colab.research.google.com/assets/colab-badge.svg\" alt=\"Open In Colab\"/></a>"
      ]
    },
    {
      "cell_type": "code",
      "source": [
        "from scipy.special import erf\n",
        "from sklearn.linear_model import LinearRegression\n",
        "import matplotlib.pyplot as plt\n",
        "import numpy as np\n",
        "import pandas as pd"
      ],
      "metadata": {
        "id": "gChlyJIYQ8cH"
      },
      "execution_count": 1,
      "outputs": []
    },
    {
      "cell_type": "code",
      "execution_count": 14,
      "metadata": {
        "colab": {
          "base_uri": "https://localhost:8080/"
        },
        "id": "7UikW01jPh6F",
        "outputId": "e6365997-e9e9-4c28-f456-da4212825066"
      },
      "outputs": [
        {
          "output_type": "stream",
          "name": "stdout",
          "text": [
            "--2022-03-04 19:22:39--  https://raw.githubusercontent.com/owid/covid-19-data/master/public/data/owid-covid-data.csv\n",
            "Resolving raw.githubusercontent.com (raw.githubusercontent.com)... 185.199.108.133, 185.199.109.133, 185.199.110.133, ...\n",
            "Connecting to raw.githubusercontent.com (raw.githubusercontent.com)|185.199.108.133|:443... connected.\n",
            "HTTP request sent, awaiting response... 200 OK\n",
            "Length: 47268245 (45M) [text/plain]\n",
            "Saving to: ‘owid-covid-data.csv’\n",
            "\n",
            "owid-covid-data.csv 100%[===================>]  45.08M   191MB/s    in 0.2s    \n",
            "\n",
            "2022-03-04 19:22:39 (191 MB/s) - ‘owid-covid-data.csv’ saved [47268245/47268245]\n",
            "\n"
          ]
        }
      ],
      "source": [
        "!wget 'https://raw.githubusercontent.com/owid/covid-19-data/master/public/data/owid-covid-data.csv'"
      ]
    },
    {
      "cell_type": "code",
      "source": [
        "CONTROL_DAYS = ['2020-05-01', '2020-06-01', '2020-09-01']\n",
        "COUNTRY = 'RUS'\n",
        "DAYS_CHART = 55 # количество дней на графиках\n",
        "DAYS_MODEL = 50 # количество дней в train\n",
        "FILEPATH = \"owid-covid-data.csv\"\n",
        "SAMPLE_NUMBER = 200\n",
        "START_DAY = '2020-03-03'"
      ],
      "metadata": {
        "id": "5Gj0WTDORY-b"
      },
      "execution_count": 3,
      "outputs": []
    },
    {
      "cell_type": "code",
      "source": [
        "def mean_filter(x, k):\n",
        "    k2 = (k - 1) // 2\n",
        "    y = np.zeros((len(x), k), dtype=x.dtype)\n",
        "    y[:, k2] = x\n",
        "    for i in range(k2):\n",
        "        j = k2 - i\n",
        "        y[j:, i] = x[:-j]\n",
        "        y[:j, i] = x[0]\n",
        "        y[:-j, -(i + 1)] = x[j:]\n",
        "        y[-j:, -(i + 1)] = x[-1]\n",
        "    return np.mean(y, axis=1)"
      ],
      "metadata": {
        "id": "XrTioUI4RScU"
      },
      "execution_count": 4,
      "outputs": []
    },
    {
      "cell_type": "code",
      "source": [
        "def plot(x, y1, y1m, y2, y2m):\n",
        "    n = x.shape[0]\n",
        "    plt.figure()\n",
        "\n",
        "    plt.subplot(1, 2, 1)\n",
        "    plt.plot(x, y1[:n], x, y1m[:n])\n",
        "    plt.xlabel('День от начала наблюдений')\n",
        "    plt.ylabel('Количество новых заболевших')\n",
        "    plt.legend(['данные', 'модель'])\n",
        "\n",
        "    plt.subplot(1, 2, 2)\n",
        "    plt.plot(x, y2[:n], x, y2m[:n])\n",
        "    plt.xlabel('День от начала наблюдений')\n",
        "    plt.ylabel('Количество заболевших всего')\n",
        "    plt.legend(['данные', 'модель'])\n",
        "\n",
        "    plt.show()"
      ],
      "metadata": {
        "id": "xrjwNljJSy1_"
      },
      "execution_count": 5,
      "outputs": []
    },
    {
      "cell_type": "code",
      "source": [
        "df = pd.read_csv(FILEPATH, delimiter=',', on_bad_lines='skip')\n",
        "data_df = df[(df['iso_code'] == COUNTRY) & (df['date'] >= START_DAY)][['date', 'total_cases', 'new_cases']]\n",
        "\n",
        "data_df['new_cases'][data_df['new_cases'] == 0] = 1\n",
        "\n",
        "days_df = pd.to_datetime(data_df['date']) - pd.to_datetime(START_DAY)\n",
        "days = days_df.dt.days.to_numpy()\n",
        "\n",
        "total_cases = data_df['total_cases'].to_numpy()\n",
        "new_cases = data_df['new_cases'].to_numpy()"
      ],
      "metadata": {
        "id": "zmPABSHdS2vL"
      },
      "execution_count": 17,
      "outputs": []
    },
    {
      "cell_type": "code",
      "source": [
        "df.head(5)  #  посмотрим, то ли загрузили"
      ],
      "metadata": {
        "colab": {
          "base_uri": "https://localhost:8080/",
          "height": 386
        },
        "id": "DafA7DEoZb2L",
        "outputId": "fbcdc4f9-e63e-4781-d3f6-5a6720426aa0"
      },
      "execution_count": 31,
      "outputs": [
        {
          "output_type": "execute_result",
          "data": {
            "text/html": [
              "\n",
              "  <div id=\"df-508ef4ea-c6af-4845-91eb-b76646af8812\">\n",
              "    <div class=\"colab-df-container\">\n",
              "      <div>\n",
              "<style scoped>\n",
              "    .dataframe tbody tr th:only-of-type {\n",
              "        vertical-align: middle;\n",
              "    }\n",
              "\n",
              "    .dataframe tbody tr th {\n",
              "        vertical-align: top;\n",
              "    }\n",
              "\n",
              "    .dataframe thead th {\n",
              "        text-align: right;\n",
              "    }\n",
              "</style>\n",
              "<table border=\"1\" class=\"dataframe\">\n",
              "  <thead>\n",
              "    <tr style=\"text-align: right;\">\n",
              "      <th></th>\n",
              "      <th>iso_code</th>\n",
              "      <th>continent</th>\n",
              "      <th>location</th>\n",
              "      <th>date</th>\n",
              "      <th>total_cases</th>\n",
              "      <th>new_cases</th>\n",
              "      <th>new_cases_smoothed</th>\n",
              "      <th>total_deaths</th>\n",
              "      <th>new_deaths</th>\n",
              "      <th>new_deaths_smoothed</th>\n",
              "      <th>...</th>\n",
              "      <th>female_smokers</th>\n",
              "      <th>male_smokers</th>\n",
              "      <th>handwashing_facilities</th>\n",
              "      <th>hospital_beds_per_thousand</th>\n",
              "      <th>life_expectancy</th>\n",
              "      <th>human_development_index</th>\n",
              "      <th>excess_mortality_cumulative_absolute</th>\n",
              "      <th>excess_mortality_cumulative</th>\n",
              "      <th>excess_mortality</th>\n",
              "      <th>excess_mortality_cumulative_per_million</th>\n",
              "    </tr>\n",
              "  </thead>\n",
              "  <tbody>\n",
              "    <tr>\n",
              "      <th>0</th>\n",
              "      <td>AFG</td>\n",
              "      <td>Asia</td>\n",
              "      <td>Afghanistan</td>\n",
              "      <td>2020-02-24</td>\n",
              "      <td>5.0</td>\n",
              "      <td>5.0</td>\n",
              "      <td>NaN</td>\n",
              "      <td>NaN</td>\n",
              "      <td>NaN</td>\n",
              "      <td>NaN</td>\n",
              "      <td>...</td>\n",
              "      <td>NaN</td>\n",
              "      <td>NaN</td>\n",
              "      <td>37.746</td>\n",
              "      <td>0.5</td>\n",
              "      <td>64.83</td>\n",
              "      <td>0.511</td>\n",
              "      <td>NaN</td>\n",
              "      <td>NaN</td>\n",
              "      <td>NaN</td>\n",
              "      <td>NaN</td>\n",
              "    </tr>\n",
              "    <tr>\n",
              "      <th>1</th>\n",
              "      <td>AFG</td>\n",
              "      <td>Asia</td>\n",
              "      <td>Afghanistan</td>\n",
              "      <td>2020-02-25</td>\n",
              "      <td>5.0</td>\n",
              "      <td>0.0</td>\n",
              "      <td>NaN</td>\n",
              "      <td>NaN</td>\n",
              "      <td>NaN</td>\n",
              "      <td>NaN</td>\n",
              "      <td>...</td>\n",
              "      <td>NaN</td>\n",
              "      <td>NaN</td>\n",
              "      <td>37.746</td>\n",
              "      <td>0.5</td>\n",
              "      <td>64.83</td>\n",
              "      <td>0.511</td>\n",
              "      <td>NaN</td>\n",
              "      <td>NaN</td>\n",
              "      <td>NaN</td>\n",
              "      <td>NaN</td>\n",
              "    </tr>\n",
              "    <tr>\n",
              "      <th>2</th>\n",
              "      <td>AFG</td>\n",
              "      <td>Asia</td>\n",
              "      <td>Afghanistan</td>\n",
              "      <td>2020-02-26</td>\n",
              "      <td>5.0</td>\n",
              "      <td>0.0</td>\n",
              "      <td>NaN</td>\n",
              "      <td>NaN</td>\n",
              "      <td>NaN</td>\n",
              "      <td>NaN</td>\n",
              "      <td>...</td>\n",
              "      <td>NaN</td>\n",
              "      <td>NaN</td>\n",
              "      <td>37.746</td>\n",
              "      <td>0.5</td>\n",
              "      <td>64.83</td>\n",
              "      <td>0.511</td>\n",
              "      <td>NaN</td>\n",
              "      <td>NaN</td>\n",
              "      <td>NaN</td>\n",
              "      <td>NaN</td>\n",
              "    </tr>\n",
              "    <tr>\n",
              "      <th>3</th>\n",
              "      <td>AFG</td>\n",
              "      <td>Asia</td>\n",
              "      <td>Afghanistan</td>\n",
              "      <td>2020-02-27</td>\n",
              "      <td>5.0</td>\n",
              "      <td>0.0</td>\n",
              "      <td>NaN</td>\n",
              "      <td>NaN</td>\n",
              "      <td>NaN</td>\n",
              "      <td>NaN</td>\n",
              "      <td>...</td>\n",
              "      <td>NaN</td>\n",
              "      <td>NaN</td>\n",
              "      <td>37.746</td>\n",
              "      <td>0.5</td>\n",
              "      <td>64.83</td>\n",
              "      <td>0.511</td>\n",
              "      <td>NaN</td>\n",
              "      <td>NaN</td>\n",
              "      <td>NaN</td>\n",
              "      <td>NaN</td>\n",
              "    </tr>\n",
              "    <tr>\n",
              "      <th>4</th>\n",
              "      <td>AFG</td>\n",
              "      <td>Asia</td>\n",
              "      <td>Afghanistan</td>\n",
              "      <td>2020-02-28</td>\n",
              "      <td>5.0</td>\n",
              "      <td>0.0</td>\n",
              "      <td>NaN</td>\n",
              "      <td>NaN</td>\n",
              "      <td>NaN</td>\n",
              "      <td>NaN</td>\n",
              "      <td>...</td>\n",
              "      <td>NaN</td>\n",
              "      <td>NaN</td>\n",
              "      <td>37.746</td>\n",
              "      <td>0.5</td>\n",
              "      <td>64.83</td>\n",
              "      <td>0.511</td>\n",
              "      <td>NaN</td>\n",
              "      <td>NaN</td>\n",
              "      <td>NaN</td>\n",
              "      <td>NaN</td>\n",
              "    </tr>\n",
              "  </tbody>\n",
              "</table>\n",
              "<p>5 rows × 67 columns</p>\n",
              "</div>\n",
              "      <button class=\"colab-df-convert\" onclick=\"convertToInteractive('df-508ef4ea-c6af-4845-91eb-b76646af8812')\"\n",
              "              title=\"Convert this dataframe to an interactive table.\"\n",
              "              style=\"display:none;\">\n",
              "        \n",
              "  <svg xmlns=\"http://www.w3.org/2000/svg\" height=\"24px\"viewBox=\"0 0 24 24\"\n",
              "       width=\"24px\">\n",
              "    <path d=\"M0 0h24v24H0V0z\" fill=\"none\"/>\n",
              "    <path d=\"M18.56 5.44l.94 2.06.94-2.06 2.06-.94-2.06-.94-.94-2.06-.94 2.06-2.06.94zm-11 1L8.5 8.5l.94-2.06 2.06-.94-2.06-.94L8.5 2.5l-.94 2.06-2.06.94zm10 10l.94 2.06.94-2.06 2.06-.94-2.06-.94-.94-2.06-.94 2.06-2.06.94z\"/><path d=\"M17.41 7.96l-1.37-1.37c-.4-.4-.92-.59-1.43-.59-.52 0-1.04.2-1.43.59L10.3 9.45l-7.72 7.72c-.78.78-.78 2.05 0 2.83L4 21.41c.39.39.9.59 1.41.59.51 0 1.02-.2 1.41-.59l7.78-7.78 2.81-2.81c.8-.78.8-2.07 0-2.86zM5.41 20L4 18.59l7.72-7.72 1.47 1.35L5.41 20z\"/>\n",
              "  </svg>\n",
              "      </button>\n",
              "      \n",
              "  <style>\n",
              "    .colab-df-container {\n",
              "      display:flex;\n",
              "      flex-wrap:wrap;\n",
              "      gap: 12px;\n",
              "    }\n",
              "\n",
              "    .colab-df-convert {\n",
              "      background-color: #E8F0FE;\n",
              "      border: none;\n",
              "      border-radius: 50%;\n",
              "      cursor: pointer;\n",
              "      display: none;\n",
              "      fill: #1967D2;\n",
              "      height: 32px;\n",
              "      padding: 0 0 0 0;\n",
              "      width: 32px;\n",
              "    }\n",
              "\n",
              "    .colab-df-convert:hover {\n",
              "      background-color: #E2EBFA;\n",
              "      box-shadow: 0px 1px 2px rgba(60, 64, 67, 0.3), 0px 1px 3px 1px rgba(60, 64, 67, 0.15);\n",
              "      fill: #174EA6;\n",
              "    }\n",
              "\n",
              "    [theme=dark] .colab-df-convert {\n",
              "      background-color: #3B4455;\n",
              "      fill: #D2E3FC;\n",
              "    }\n",
              "\n",
              "    [theme=dark] .colab-df-convert:hover {\n",
              "      background-color: #434B5C;\n",
              "      box-shadow: 0px 1px 3px 1px rgba(0, 0, 0, 0.15);\n",
              "      filter: drop-shadow(0px 1px 2px rgba(0, 0, 0, 0.3));\n",
              "      fill: #FFFFFF;\n",
              "    }\n",
              "  </style>\n",
              "\n",
              "      <script>\n",
              "        const buttonEl =\n",
              "          document.querySelector('#df-508ef4ea-c6af-4845-91eb-b76646af8812 button.colab-df-convert');\n",
              "        buttonEl.style.display =\n",
              "          google.colab.kernel.accessAllowed ? 'block' : 'none';\n",
              "\n",
              "        async function convertToInteractive(key) {\n",
              "          const element = document.querySelector('#df-508ef4ea-c6af-4845-91eb-b76646af8812');\n",
              "          const dataTable =\n",
              "            await google.colab.kernel.invokeFunction('convertToInteractive',\n",
              "                                                     [key], {});\n",
              "          if (!dataTable) return;\n",
              "\n",
              "          const docLinkHtml = 'Like what you see? Visit the ' +\n",
              "            '<a target=\"_blank\" href=https://colab.research.google.com/notebooks/data_table.ipynb>data table notebook</a>'\n",
              "            + ' to learn more about interactive tables.';\n",
              "          element.innerHTML = '';\n",
              "          dataTable['output_type'] = 'display_data';\n",
              "          await google.colab.output.renderOutput(dataTable, element);\n",
              "          const docLink = document.createElement('div');\n",
              "          docLink.innerHTML = docLinkHtml;\n",
              "          element.appendChild(docLink);\n",
              "        }\n",
              "      </script>\n",
              "    </div>\n",
              "  </div>\n",
              "  "
            ],
            "text/plain": [
              "  iso_code continent     location        date  total_cases  new_cases  \\\n",
              "0      AFG      Asia  Afghanistan  2020-02-24          5.0        5.0   \n",
              "1      AFG      Asia  Afghanistan  2020-02-25          5.0        0.0   \n",
              "2      AFG      Asia  Afghanistan  2020-02-26          5.0        0.0   \n",
              "3      AFG      Asia  Afghanistan  2020-02-27          5.0        0.0   \n",
              "4      AFG      Asia  Afghanistan  2020-02-28          5.0        0.0   \n",
              "\n",
              "   new_cases_smoothed  total_deaths  new_deaths  new_deaths_smoothed  ...  \\\n",
              "0                 NaN           NaN         NaN                  NaN  ...   \n",
              "1                 NaN           NaN         NaN                  NaN  ...   \n",
              "2                 NaN           NaN         NaN                  NaN  ...   \n",
              "3                 NaN           NaN         NaN                  NaN  ...   \n",
              "4                 NaN           NaN         NaN                  NaN  ...   \n",
              "\n",
              "   female_smokers  male_smokers  handwashing_facilities  \\\n",
              "0             NaN           NaN                  37.746   \n",
              "1             NaN           NaN                  37.746   \n",
              "2             NaN           NaN                  37.746   \n",
              "3             NaN           NaN                  37.746   \n",
              "4             NaN           NaN                  37.746   \n",
              "\n",
              "   hospital_beds_per_thousand  life_expectancy  human_development_index  \\\n",
              "0                         0.5            64.83                    0.511   \n",
              "1                         0.5            64.83                    0.511   \n",
              "2                         0.5            64.83                    0.511   \n",
              "3                         0.5            64.83                    0.511   \n",
              "4                         0.5            64.83                    0.511   \n",
              "\n",
              "   excess_mortality_cumulative_absolute  excess_mortality_cumulative  \\\n",
              "0                                   NaN                          NaN   \n",
              "1                                   NaN                          NaN   \n",
              "2                                   NaN                          NaN   \n",
              "3                                   NaN                          NaN   \n",
              "4                                   NaN                          NaN   \n",
              "\n",
              "   excess_mortality  excess_mortality_cumulative_per_million  \n",
              "0               NaN                                      NaN  \n",
              "1               NaN                                      NaN  \n",
              "2               NaN                                      NaN  \n",
              "3               NaN                                      NaN  \n",
              "4               NaN                                      NaN  \n",
              "\n",
              "[5 rows x 67 columns]"
            ]
          },
          "metadata": {},
          "execution_count": 31
        }
      ]
    },
    {
      "cell_type": "code",
      "source": [
        "# посмотрим статистику за весь период наблюдения"
      ],
      "metadata": {
        "id": "6XdW-n0WZ6Fl"
      },
      "execution_count": 33,
      "outputs": []
    },
    {
      "cell_type": "code",
      "source": [
        "plt.plot(days, new_cases)"
      ],
      "metadata": {
        "colab": {
          "base_uri": "https://localhost:8080/",
          "height": 284
        },
        "id": "5L8vrSlQU1em",
        "outputId": "a0be677e-a09c-41ef-e79c-128f2666b10d"
      },
      "execution_count": 18,
      "outputs": [
        {
          "output_type": "execute_result",
          "data": {
            "text/plain": [
              "[<matplotlib.lines.Line2D at 0x7f13b534c5d0>]"
            ]
          },
          "metadata": {},
          "execution_count": 18
        },
        {
          "output_type": "display_data",
          "data": {
            "image/png": "[encoded data removed]",
            "text/plain": [
              "<Figure size 432x288 with 1 Axes>"
            ]
          },
          "metadata": {
            "needs_background": "light"
          }
        }
      ]
    },
    {
      "cell_type": "code",
      "source": [
        "plt.plot(days, total_cases)"
      ],
      "metadata": {
        "colab": {
          "base_uri": "https://localhost:8080/",
          "height": 295
        },
        "id": "aCEFgaYqU4LF",
        "outputId": "27d67533-7dba-40c0-c0f0-2214b1242abe"
      },
      "execution_count": 32,
      "outputs": [
        {
          "output_type": "execute_result",
          "data": {
            "text/plain": [
              "[<matplotlib.lines.Line2D at 0x7f13b2958310>]"
            ]
          },
          "metadata": {},
          "execution_count": 32
        },
        {
          "output_type": "display_data",
          "data": {
            "image/png": "[encoded data removed]",
            "text/plain": [
              "<Figure size 432x288 with 1 Axes>"
            ]
          },
          "metadata": {
            "needs_background": "light"
          }
        }
      ]
    },
    {
      "cell_type": "code",
      "source": [
        "def exp_linear(w, x):\n",
        "    res = np.exp(w[0] + w[1] * x)\n",
        "    return res"
      ],
      "metadata": {
        "id": "4Y1o-eEGWhDp"
      },
      "execution_count": 19,
      "outputs": []
    },
    {
      "cell_type": "code",
      "source": [
        "def get_sample_lines(xs, mu, sigma, foo, n=20, points=None):\n",
        "    #  функция для генерации сэмплов \n",
        "    #  foo - функция модели\n",
        "    my_w = np.random.multivariate_normal(mu, sigma, n)\n",
        "    res = np.zeros((n, xs.shape[0]))\n",
        "    for i, w in enumerate(my_w):\n",
        "        res[i] = foo(w, xs)\n",
        "    return res"
      ],
      "metadata": {
        "id": "8pTlGRMSWg_y"
      },
      "execution_count": 20,
      "outputs": []
    },
    {
      "cell_type": "code",
      "source": [
        "days_df = pd.to_datetime(CONTROL_DAYS) - pd.to_datetime(START_DAY)\n",
        "control_days = days_df.days.to_numpy()"
      ],
      "metadata": {
        "id": "3y4je7TrWg72"
      },
      "execution_count": 21,
      "outputs": []
    },
    {
      "cell_type": "code",
      "source": [
        "def regression_experiment(x_data, y_data, y_chart, foo, mu_0=(1, 1), sigma_0=np.diag([5, 5]), title=''):\n",
        "    \"\"\"\n",
        "       основная функция проведения эксперимента\n",
        "       x_data, y_data - данные для линейной регрессии \n",
        "       y_chart - исходные данные\n",
        "       foo - функция модели\n",
        "       mu_0, sigma_0 - МО и СКО априорного нормального распределения параметров\n",
        "       title - заголовок графика\n",
        "    \"\"\"\n",
        "    if x_data.ndim == 1:\n",
        "        x_chart = x_data\n",
        "    else:\n",
        "        x_chart = x_data[:, 0]\n",
        "\n",
        "    x = x_data[:DAYS_MODEL]\n",
        "    y = y_data[:DAYS_MODEL]\n",
        "    x = x.reshape(x.shape[0], -1)\n",
        "\n",
        "\n",
        "    lr = LinearRegression()\n",
        "    lr.fit(x, y)\n",
        "    y_pr = lr.predict(x)\n",
        "\n",
        "    d = np.var(y - y_pr)\n",
        "\n",
        "    ones_and_x = np.hstack([np.ones((x.shape[0], 1)), x])\n",
        "\n",
        "\n",
        "    #  параметры апостериорного распределения \n",
        "    sigma = np.linalg.inv(np.linalg.inv(sigma_0) + ones_and_x.T @ ones_and_x / d)\n",
        "    mu = (sigma @ (np.linalg.inv(sigma_0) @ mu_0 + ones_and_x.T @ y / d))\n",
        "\n",
        "    #  посэмплируем и усредним\n",
        "    sample_lines = get_sample_lines(x_chart[:DAYS_CHART], mu, sigma, foo, n=SAMPLE_NUMBER)\n",
        "    mean_line = np.mean(sample_lines, axis=0)\n",
        "    \n",
        "    plt.plot(x_chart[:DAYS_CHART], y_chart[:DAYS_CHART], color='green', linewidth=2)\n",
        "    plt.plot(x_chart[:DAYS_CHART], mean_line, color='red', linewidth=2)\n",
        "    plt.plot(x_chart[:DAYS_CHART], sample_lines.T, alpha=0.2, color='blue', linewidth=0.5)\n",
        "\n",
        "    plt.title(title)\n",
        "    plt.legend(['Данные', 'Предсказание', 'Сэмплы апостериорного распределения'])\n",
        "\n",
        "    sample_points = get_sample_lines(control_days, mu, sigma, foo, n=SAMPLE_NUMBER)\n",
        "    mean_points = np.mean(sample_points, axis=0)\n",
        "\n",
        "    print(f'Количество случаев ({title}) на даты:')\n",
        "    for i in range(len(CONTROL_DAYS)):\n",
        "        print(CONTROL_DAYS[i], ' : ', int(mean_points[i]), 'человек')\n",
        "\n",
        "    plt.show()"
      ],
      "metadata": {
        "id": "8_ufDTgqWtYD"
      },
      "execution_count": 22,
      "outputs": []
    },
    {
      "cell_type": "code",
      "source": [
        "# Готовим данные к линейной регрессии\n",
        "\n",
        "# параметры априорного распределения\n",
        "mu_0 = np.array([1, 1])\n",
        "sigma_0 = np.diag([5, 5])\n",
        "x = days\n",
        "# прологорифмируем и получим линейную зависимость\n",
        "y_new_cases = np.log(new_cases)\n",
        "y_total_cases = np.log(total_cases)"
      ],
      "metadata": {
        "id": "hNyHAiBCWtUm"
      },
      "execution_count": 23,
      "outputs": []
    },
    {
      "cell_type": "code",
      "source": [
        "regression_experiment(x, y_new_cases, new_cases, exp_linear, \n",
        "                      mu_0=mu_0, sigma_0=sigma_0, title='новых случаев')"
      ],
      "metadata": {
        "colab": {
          "base_uri": "https://localhost:8080/",
          "height": 354
        },
        "id": "DwMPPrGIWtRw",
        "outputId": "431fd52a-bb8f-47f5-f09d-c13ec8f69d64"
      },
      "execution_count": 24,
      "outputs": [
        {
          "output_type": "stream",
          "name": "stdout",
          "text": [
            "Количество случаев (новых случаев) на даты:\n",
            "2020-05-01  :  82068 человек\n",
            "2020-06-01  :  27554897 человек\n",
            "2020-09-01  :  1021322465116087 человек\n"
          ]
        },
        {
          "output_type": "display_data",
          "data": {
            "image/png": "[encoded data removed]",
            "text/plain": [
              "<Figure size 432x288 with 1 Axes>"
            ]
          },
          "metadata": {
            "needs_background": "light"
          }
        }
      ]
    },
    {
      "cell_type": "markdown",
      "source": [
        ""
      ],
      "metadata": {
        "id": "PZ23_lcQc9WY"
      }
    },
    {
      "cell_type": "code",
      "source": [
        "regression_experiment(x, y_total_cases, total_cases, exp_linear, \n",
        "                      mu_0=mu_0, sigma_0=sigma_0, title='всего случаев')"
      ],
      "metadata": {
        "colab": {
          "base_uri": "https://localhost:8080/",
          "height": 354
        },
        "id": "0YtHkd3oWtOs",
        "outputId": "821c1de6-8f38-425d-91d0-89c9bdff3bb5"
      },
      "execution_count": 25,
      "outputs": [
        {
          "output_type": "stream",
          "name": "stdout",
          "text": [
            "Количество случаев (всего случаев) на даты:\n",
            "2020-05-01  :  750477 человек\n",
            "2020-06-01  :  357380750 человек\n",
            "2020-09-01  :  33643614723319936 человек\n"
          ]
        },
        {
          "output_type": "display_data",
          "data": {
            "image/png": "[encoded data removed]",
            "text/plain": [
              "<Figure size 432x288 with 1 Axes>"
            ]
          },
          "metadata": {
            "needs_background": "light"
          }
        }
      ]
    },
    {
      "cell_type": "code",
      "source": [
        "def int_exp(w, x):\n",
        "    #  будем вычислять функцию модели через функцию ошибки\n",
        "    #  чтобы не интегрировать каждый раз\n",
        "    #  PS мне кажется, что так будет быстрее и точнее\n",
        "\n",
        "    a = w[2]\n",
        "    b = w[1]\n",
        "    c = w[0]\n",
        "\n",
        "    #  при положительном коэффициенте - бесконечность, \n",
        "    #  поэтому немного схитрим\n",
        "    if a > 0:\n",
        "        a = -a\n",
        "    #  скажется ли это на апостериорном распределении? \n",
        "    #  думаю да, но незначительно\n",
        "\n",
        "    return 1 / np.sqrt(-a) * np.exp(c - b * b / a\n",
        "                                    / 4) * np.sqrt(np.pi) / 2 * (1 + erf(np.sqrt(-a) * x - b / np.sqrt(-a) / 2))\n"
      ],
      "metadata": {
        "id": "dCH_izl_XYSa"
      },
      "execution_count": 26,
      "outputs": []
    },
    {
      "cell_type": "code",
      "source": [
        "def prepare_for_int_exp(y):\n",
        "    #  для подготовки данных для линейной регрессии надо\n",
        "    #  продифференцировать, а потом прологорифмировать значения\n",
        "\n",
        "    #  но для этого значения должны монотонно возрастать\n",
        "    #  поэтому немного отфильтруем\n",
        "    #  а если осталась где-то производная < 1, то сделаем её равной 1\n",
        "\n",
        "    filter_order = 3\n",
        "    filtered_y = mean_filter(y, filter_order)\n",
        "\n",
        "    n_diff = 1\n",
        "    pad = np.zeros(n_diff)\n",
        "    y0 = filtered_y.copy()\n",
        "    for i in range(1, len(y0)):\n",
        "        if y0[i] <= y0[i - 1]:\n",
        "            y0[i] = y0[i - 1] + 1\n",
        "    diff_y = np.diff(y0, axis=0, n=n_diff, append=pad)\n",
        "    diff_y = np.where(diff_y < 1, 1, diff_y)\n",
        "    log_y = np.log(diff_y)\n",
        "\n",
        "    return log_y"
      ],
      "metadata": {
        "id": "NomwlrfXXaJS"
      },
      "execution_count": 27,
      "outputs": []
    },
    {
      "cell_type": "code",
      "source": [
        "# Готовим данные к линейной регрессии\n",
        "\n",
        "# параметры априорного распределения\n",
        "mu_0 = [-1, 1, 1]\n",
        "sigma_0 = np.diag([1, 1, 1])\n",
        "\n",
        "x1 = days\n",
        "x2 = x1 ** 2\n",
        "x = np.vstack([x1, x2]).T\n",
        "\n",
        "y_new_cases = prepare_for_int_exp(new_cases)\n",
        "y_total_cases = prepare_for_int_exp(total_cases)"
      ],
      "metadata": {
        "id": "sJpdc1ZJXx5Y"
      },
      "execution_count": 28,
      "outputs": []
    },
    {
      "cell_type": "code",
      "source": [
        "regression_experiment(x, y_new_cases, new_cases, int_exp, \n",
        "                      mu_0=mu_0, sigma_0=sigma_0, title='новых случаев')"
      ],
      "metadata": {
        "colab": {
          "base_uri": "https://localhost:8080/",
          "height": 354
        },
        "id": "JSXHd8iIXx19",
        "outputId": "99eb577b-4f8c-43b3-f848-bba54a7526ec"
      },
      "execution_count": 29,
      "outputs": [
        {
          "output_type": "stream",
          "name": "stdout",
          "text": [
            "Количество случаев (новых случаев) на даты:\n",
            "2020-05-01  :  3220 человек\n",
            "2020-06-01  :  6189 человек\n",
            "2020-09-01  :  7628444 человек\n"
          ]
        },
        {
          "output_type": "display_data",
          "data": {
            "image/png": "[encoded data removed]",
            "text/plain": [
              "<Figure size 432x288 with 1 Axes>"
            ]
          },
          "metadata": {
            "needs_background": "light"
          }
        }
      ]
    },
    {
      "cell_type": "code",
      "source": [
        "regression_experiment(x, y_total_cases, total_cases, int_exp, \n",
        "                      mu_0=mu_0, sigma_0=sigma_0, title='всего случаев')"
      ],
      "metadata": {
        "colab": {
          "base_uri": "https://localhost:8080/",
          "height": 354
        },
        "id": "KtN1B60RXxmW",
        "outputId": "3577e4e7-acb8-4f4e-fbe8-d0696419858d"
      },
      "execution_count": 30,
      "outputs": [
        {
          "output_type": "stream",
          "name": "stdout",
          "text": [
            "Количество случаев (всего случаев) на даты:\n",
            "2020-05-01  :  153474 человек\n",
            "2020-06-01  :  795379 человек\n",
            "2020-09-01  :  1359022 человек\n"
          ]
        },
        {
          "output_type": "display_data",
          "data": {
            "image/png": "[encoded data removed]",
            "text/plain": [
              "<Figure size 432x288 with 1 Axes>"
            ]
          },
          "metadata": {
            "needs_background": "light"
          }
        }
      ]
    },
    {
      "cell_type": "markdown",
      "source": [
        "Моделирование заболеваемости по экспоненциальной модели возможно только на начальном этапе. Далее модель дает неадеквантые результаты, поскольку не учитывает много факторов (например, что при росте числа заболевших уменьшается среднее число заражаемых от одного заболевшего, поскольку вероятность встретить здорового, чтобы его заразить тоже уменьшается). \n",
        "\n",
        "Чтобы принять решение вводить ли карантин, надо во-первых оценивать мощности системы здравоохранения, а во-вторых пользоваться более сложными моделями, учитвающими вероятности получения иммунитета, повторного заболевания, тяжелого течения болезни, возможно в модели учитывать географические и транспортные особенности страны."
      ],
      "metadata": {
        "id": "8yLh1-EXhaLO"
      }
    }
  ]
}